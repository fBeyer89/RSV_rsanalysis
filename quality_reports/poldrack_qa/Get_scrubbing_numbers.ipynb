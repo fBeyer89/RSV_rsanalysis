{
 "cells": [
  {
   "cell_type": "code",
   "execution_count": 61,
   "metadata": {
    "collapsed": false
   },
   "outputs": [],
   "source": [
    "import os\n",
    "import numpy as np\n",
    "import pandas as pd"
   ]
  },
  {
   "cell_type": "code",
   "execution_count": 98,
   "metadata": {
    "collapsed": false
   },
   "outputs": [],
   "source": [
    "data_dir = '/data/pt_nro132/nil2/reinelt/NECOS/scrubbed_scans/'\n",
    "\n",
    "subjects = os.listdir(data_dir)\n",
    "subjects.sort()\n",
    "#subjects\n",
    "\n",
    "columns = ['NECOS_ID','scan_id','scrb_total', 'scrb_consec']\n",
    "scan_id = ['rest2', 'rest3']\n",
    "scan_id = np.repeat(scan_id, len(subjects))\n",
    "\n",
    "df =  pd.DataFrame(columns=columns)\n",
    "df['NECOS_ID'] = subjects *2\n",
    "df['scan_id'] = scan_id\n"
   ]
  },
  {
   "cell_type": "code",
   "execution_count": 99,
   "metadata": {
    "collapsed": false
   },
   "outputs": [],
   "source": [
    "for subject in subjects:\n",
    "    tmp_path = os.path.join(data_dir, subject)\n",
    "    scans = os.listdir(tmp_path)\n",
    "    \n",
    "    for scan in scans:\n",
    "        scrub_file = os.path.join(data_dir, subject, scan, 'scrubvols.txt')\n",
    "        with open(scrub_file) as f:\n",
    "            \n",
    "            #tmp_col = 'scrb_total'\n",
    "            vols = f.read().splitlines()\n",
    "            vols_array = np.array(list(map(int, vols)))\n",
    "            df.loc[(df.NECOS_ID == subject) & (df.scan_id ==scan), 'scrb_total'] = vols_array.shape[0]\n",
    "            \n",
    "            #tmp_col ='scrb_consec'\n",
    "            class Solution: # solution by https://github.com/kamyu104/LeetCode/blob/master/Python/longest-consecutive-sequence.py\n",
    "                # @param num, a list of integer\n",
    "                # @return an integer\n",
    "                def longestConsecutive(self, num):\n",
    "                    result, lengths = 1, {key: 0 for key in num}\n",
    "                    for i in num:\n",
    "                        if lengths[i] == 0:\n",
    "                            lengths[i] = 1\n",
    "                            left, right = lengths.get(i - 1, 0), lengths.get(i + 1, 0)\n",
    "                            length = 1 + left + right\n",
    "                            result, lengths[i - left], lengths[i + right] = max(result, length), length, length\n",
    "                    return result\n",
    "\n",
    "            if __name__ == \"__main__\":\n",
    "                tmp_consec = Solution().longestConsecutive(vols_array)\n",
    "\n",
    "            df.loc[(df.NECOS_ID == subject) & (df.scan_id ==scan), 'scrb_consec'] = tmp_consec\n",
    "            \n",
    "df = df.sort_values(['NECOS_ID', 'scan_id'])          "
   ]
  },
  {
   "cell_type": "code",
   "execution_count": 100,
   "metadata": {
    "collapsed": false
   },
   "outputs": [],
   "source": [
    "#df\n"
   ]
  },
  {
   "cell_type": "code",
   "execution_count": 93,
   "metadata": {
    "collapsed": false,
    "scrolled": true
   },
   "outputs": [],
   "source": [
    "df.to_csv('/scr/nil2/reinelt/NECOS/motiion/scrubbed_vols_summary_long.csv')b"
   ]
  },
  {
   "cell_type": "code",
   "execution_count": null,
   "metadata": {
    "collapsed": true
   },
   "outputs": [],
   "source": [
    "for subject in subjects:\n",
    "    tmp_path = os.path.join(data_dir, subject)\n",
    "    scans = os.listdir(tmp_path)\n",
    "    \n",
    "    for scan in scans:"
   ]
  },
  {
   "cell_type": "code",
   "execution_count": 78,
   "metadata": {
    "collapsed": false
   },
   "outputs": [
    {
     "data": {
      "text/plain": [
       "7"
      ]
     },
     "execution_count": 78,
     "metadata": {},
     "output_type": "execute_result"
    }
   ],
   "source": [
    "for subject in subjects:\n",
    "    tmp_path = os.path.join(data_dir, subject)\n",
    "    scans = os.listdir(tmp_path)\n",
    "    \n",
    "    for scan in scans:\n",
    "        scrub_file = os.path.join(data_dir, subject, scan, 'scrubvols.txt')\n",
    "        with open(scrub_file) as f:\n",
    "            vols = f.read().splitlines()\n",
    "            vols_array = np.array(list(map(int, vols)))\n",
    "            tmp_col = 'scrb_total'\n",
    "            df.set_value(df.NECOS_ID == subject, df.scan_id == scan, tmp_col, vols_array.shape[0])\n",
    "            \n",
    "            tmp_col ='scrb_consec'\n",
    "            class Solution: # solution by https://github.com/kamyu104/LeetCode/blob/master/Python/longest-consecutive-sequence.py\n",
    "                # @param num, a list of integer\n",
    "                # @return an integer\n",
    "                def longestConsecutive(self, num):\n",
    "                    result, lengths = 1, {key: 0 for key in num}\n",
    "                    for i in num:\n",
    "                        if lengths[i] == 0:\n",
    "                            lengths[i] = 1\n",
    "                            left, right = lengths.get(i - 1, 0), lengths.get(i + 1, 0)\n",
    "                            length = 1 + left + right\n",
    "                            result, lengths[i - left], lengths[i + right] = max(result, length), length, length\n",
    "                    return result\n",
    "\n",
    "            if __name__ == \"__main__\":\n",
    "                tmp_consec = Solution().longestConsecutive(vols_array)\n",
    "\n",
    "            df.set_value(df.NECOS_ID == subject, df.scan_id == scan, tmp_col, tmp_consec)\n",
    "            \n",
    "            \n",
    "            \n",
    "            "
   ]
  },
  {
   "cell_type": "code",
   "execution_count": 76,
   "metadata": {
    "collapsed": false
   },
   "outputs": [],
   "source": [
    "#df.loc[df.NECOS_ID == 'NECOS004']\n"
   ]
  },
  {
   "cell_type": "code",
   "execution_count": 88,
   "metadata": {
    "collapsed": false
   },
   "outputs": [
    {
     "data": {
      "text/plain": [
       "array([148, 149, 150, 151, 333, 334, 335])"
      ]
     },
     "execution_count": 88,
     "metadata": {},
     "output_type": "execute_result"
    }
   ],
   "source": [
    "vols_array"
   ]
  },
  {
   "cell_type": "code",
   "execution_count": 87,
   "metadata": {
    "collapsed": false
   },
   "outputs": [],
   "source": [
    "def LargAscSub(seq):\n",
    "    deck = []\n",
    "    for x in seq:\n",
    "        newDeck = [x]\n",
    "        i = bisect.bisect_left(deck, newDeck)\n",
    "        deck[i].insert(0, x) if i != len(deck) else deck.append(newDeck)\n",
    "    return [p[0] for p in deck]"
   ]
  },
  {
   "cell_type": "code",
   "execution_count": 91,
   "metadata": {
    "collapsed": false
   },
   "outputs": [],
   "source": [
    "def longestConsecutive(self, num):\n",
    "    result, lengths = 1, {key: 0 for key in num}\n",
    "    for i in num:\n",
    "        if lengths[i] == 0:\n",
    "            lengths[i] = 1\n",
    "            left, right = lengths.get(i - 1, 0), lengths.get(i + 1, 0)\n",
    "            length = 1 + left + right\n",
    "            result, lengths[i - left], lengths[i + right] = max(result, length), length, length\n",
    "    return result"
   ]
  },
  {
   "cell_type": "code",
   "execution_count": 99,
   "metadata": {
    "collapsed": false
   },
   "outputs": [
    {
     "ename": "TypeError",
     "evalue": "longestConsecutive() missing 1 required positional argument: 'num'",
     "output_type": "error",
     "traceback": [
      "\u001b[1;31m---------------------------------------------------------------------------\u001b[0m",
      "\u001b[1;31mTypeError\u001b[0m                                 Traceback (most recent call last)",
      "\u001b[1;32m<ipython-input-99-8cffdbc47c49>\u001b[0m in \u001b[0;36m<module>\u001b[1;34m()\u001b[0m\n\u001b[1;32m----> 1\u001b[1;33m \u001b[0mlongestConsecutive\u001b[0m\u001b[1;33m(\u001b[0m\u001b[1;33m[\u001b[0m\u001b[1;36m100\u001b[0m\u001b[1;33m,\u001b[0m \u001b[1;36m4\u001b[0m\u001b[1;33m,\u001b[0m \u001b[1;36m200\u001b[0m\u001b[1;33m,\u001b[0m \u001b[1;36m1\u001b[0m\u001b[1;33m,\u001b[0m \u001b[1;36m3\u001b[0m\u001b[1;33m,\u001b[0m \u001b[1;36m2\u001b[0m\u001b[1;33m]\u001b[0m\u001b[1;33m)\u001b[0m\u001b[1;33m\u001b[0m\u001b[0m\n\u001b[0m",
      "\u001b[1;31mTypeError\u001b[0m: longestConsecutive() missing 1 required positional argument: 'num'"
     ]
    }
   ],
   "source": [
    "longestConsecutive([100, 4, 200, 1, 3, 2])"
   ]
  },
  {
   "cell_type": "code",
   "execution_count": 102,
   "metadata": {
    "collapsed": false
   },
   "outputs": [
    {
     "name": "stdout",
     "output_type": "stream",
     "text": [
      "4\n"
     ]
    }
   ],
   "source": [
    "class Solution:\n",
    "    # @param num, a list of integer\n",
    "    # @return an integer\n",
    "    def longestConsecutive(self, num):\n",
    "        result, lengths = 1, {key: 0 for key in num}\n",
    "        for i in num:\n",
    "            if lengths[i] == 0:\n",
    "                lengths[i] = 1\n",
    "                left, right = lengths.get(i - 1, 0), lengths.get(i + 1, 0)\n",
    "                length = 1 + left + right\n",
    "                result, lengths[i - left], lengths[i + right] = max(result, length), length, length\n",
    "        return result\n",
    "\n",
    "if __name__ == \"__main__\":\n",
    "    print(Solution().longestConsecutive(vols_array))"
   ]
  }
 ],
 "metadata": {
  "kernelspec": {
   "display_name": "Python [py3]",
   "language": "python",
   "name": "Python [py3]"
  },
  "language_info": {
   "codemirror_mode": {
    "name": "ipython",
    "version": 3
   },
   "file_extension": ".py",
   "mimetype": "text/x-python",
   "name": "python",
   "nbconvert_exporter": "python",
   "pygments_lexer": "ipython3",
   "version": "3.5.2"
  }
 },
 "nbformat": 4,
 "nbformat_minor": 0
}
